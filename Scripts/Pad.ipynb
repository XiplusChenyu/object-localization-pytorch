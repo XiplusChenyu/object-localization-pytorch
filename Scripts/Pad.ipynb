{
 "cells": [
  {
   "cell_type": "code",
   "execution_count": 1,
   "metadata": {},
   "outputs": [],
   "source": [
    "from FileUtils import FileUtils\n",
    "import matplotlib.pyplot as plt \n",
    "import os\n",
    "import torch\n",
    "from Settings import Settings\n",
    "from ReplayMemory import Transition, ReplayMemory\n",
    "\n",
    "os.environ['KMP_DUPLICATE_LIB_OK']='True'"
   ]
  },
  {
   "cell_type": "code",
   "execution_count": null,
   "metadata": {},
   "outputs": [],
   "source": [
    "data = FileUtils(100)\n",
    "data.filter_by_class(\"cat\")"
   ]
  },
  {
   "cell_type": "code",
   "execution_count": null,
   "metadata": {},
   "outputs": [],
   "source": [
    "from Agent import Agent"
   ]
  },
  {
   "cell_type": "code",
   "execution_count": null,
   "metadata": {},
   "outputs": [],
   "source": [
    "agent = Agent(data.images[0])\n",
    "print(agent.history)\n",
    "agent.hierarchical_move(5)\n",
    "agent.update_history_vector(5)\n",
    "print(agent.history)\n",
    "print(agent.history)\n",
    "agent.hierarchical_move(1)\n",
    "agent.update_history_vector(1)\n",
    "print(agent.history)\n",
    "print(agent.history)\n",
    "agent.hierarchical_move(3)\n",
    "agent.update_history_vector(3)\n",
    "print(agent.history)\n",
    "print(agent.history)\n",
    "agent.hierarchical_move(2)\n",
    "agent.update_history_vector(2)\n",
    "print(agent.history)"
   ]
  },
  {
   "cell_type": "code",
   "execution_count": null,
   "metadata": {},
   "outputs": [],
   "source": [
    "memo = ReplayMemory(10)"
   ]
  },
  {
   "cell_type": "code",
   "execution_count": null,
   "metadata": {},
   "outputs": [],
   "source": [
    "from Models import QModel"
   ]
  },
  {
   "cell_type": "code",
   "execution_count": null,
   "metadata": {},
   "outputs": [],
   "source": [
    "q_model = QModel()"
   ]
  },
  {
   "cell_type": "code",
   "execution_count": null,
   "metadata": {},
   "outputs": [],
   "source": [
    "for i in range(20):\n",
    "    memo.push(agent.get_state(), agent.get_next_action(q_model, 0.5), agent.get_state(), torch.tensor(1))\n",
    "    memo.push(agent.get_state(), agent.get_next_action(q_model, 0.5), None, torch.tensor(3))"
   ]
  },
  {
   "cell_type": "code",
   "execution_count": null,
   "metadata": {},
   "outputs": [],
   "source": [
    "transitions = memo.sample(5)"
   ]
  },
  {
   "cell_type": "code",
   "execution_count": null,
   "metadata": {},
   "outputs": [],
   "source": [
    "transitions"
   ]
  },
  {
   "cell_type": "code",
   "execution_count": null,
   "metadata": {},
   "outputs": [],
   "source": [
    "batch = Transition(*zip(*transitions))"
   ]
  },
  {
   "cell_type": "code",
   "execution_count": null,
   "metadata": {},
   "outputs": [],
   "source": [
    "print(batch)"
   ]
  },
  {
   "cell_type": "code",
   "execution_count": null,
   "metadata": {},
   "outputs": [],
   "source": [
    "def use_cuda(tensor, cuda=Settings.cuda):\n",
    "    if cuda:\n",
    "        tensor = tensor.cuda()\n",
    "    return tensor\n"
   ]
  },
  {
   "cell_type": "code",
   "execution_count": null,
   "metadata": {},
   "outputs": [],
   "source": [
    "non_finals = torch.tensor(tuple(map(lambda s: s is not None, batch.next_state)), dtype=torch.bool)\n",
    "non_finals = use_cuda(non_finals)\n",
    "non_finals"
   ]
  },
  {
   "cell_type": "code",
   "execution_count": null,
   "metadata": {},
   "outputs": [],
   "source": [
    "\n",
    "next_states = [s for s in batch.next_state if s is not None]\n",
    "non_final_next_states = torch.cat(next_states).type(torch.float)\n",
    "non_final_next_states = use_cuda(non_final_next_states)\n",
    "\n",
    "non_final_next_states.shape"
   ]
  },
  {
   "cell_type": "code",
   "execution_count": null,
   "metadata": {},
   "outputs": [],
   "source": [
    "state_batch = torch.cat(batch.state).type(torch.float)\n",
    "state_batch = use_cuda(state_batch)\n",
    "state_batch.shape"
   ]
  },
  {
   "cell_type": "code",
   "execution_count": null,
   "metadata": {},
   "outputs": [],
   "source": [
    "from torch.autograd import Variable"
   ]
  },
  {
   "cell_type": "code",
   "execution_count": null,
   "metadata": {},
   "outputs": [],
   "source": [
    "action_batch = torch.tensor(batch.action, dtype=torch.long).view(-1, 1)\n",
    "action_batch = use_cuda(action_batch)"
   ]
  },
  {
   "cell_type": "code",
   "execution_count": null,
   "metadata": {},
   "outputs": [],
   "source": [
    "action_batch"
   ]
  },
  {
   "cell_type": "code",
   "execution_count": null,
   "metadata": {},
   "outputs": [],
   "source": [
    "reward_batch = torch.tensor(batch.reward, dtype=torch.float).view(-1, 1)\n",
    "reward_batch = use_cuda(reward_batch)"
   ]
  },
  {
   "cell_type": "code",
   "execution_count": null,
   "metadata": {},
   "outputs": [],
   "source": [
    "reward_batch"
   ]
  },
  {
   "cell_type": "code",
   "execution_count": null,
   "metadata": {},
   "outputs": [],
   "source": [
    " a = q_model(state_batch)"
   ]
  },
  {
   "cell_type": "code",
   "execution_count": null,
   "metadata": {},
   "outputs": [],
   "source": [
    "a"
   ]
  },
  {
   "cell_type": "code",
   "execution_count": null,
   "metadata": {},
   "outputs": [],
   "source": [
    "state_action_values = a.gather(1, action_batch - 1) "
   ]
  },
  {
   "cell_type": "code",
   "execution_count": null,
   "metadata": {},
   "outputs": [],
   "source": [
    "state_action_values"
   ]
  },
  {
   "cell_type": "code",
   "execution_count": null,
   "metadata": {},
   "outputs": [],
   "source": [
    "a.max(1)[0].view(-1, 1)"
   ]
  },
  {
   "cell_type": "code",
   "execution_count": null,
   "metadata": {},
   "outputs": [],
   "source": [
    "action_batch"
   ]
  },
  {
   "cell_type": "code",
   "execution_count": null,
   "metadata": {},
   "outputs": [],
   "source": [
    "next_state_values = torch.zeros(5)\n",
    "next_state_values = use_cuda(next_state_values)\n",
    "\n",
    "next_state_values[non_finals] = q_model(non_final_next_states).max(1)[0].detach()\n",
    "next_state_values.view(-1, 1)"
   ]
  },
  {
   "cell_type": "code",
   "execution_count": null,
   "metadata": {},
   "outputs": [],
   "source": [
    "next_state_values = next_state_values.view(-1, 1)"
   ]
  },
  {
   "cell_type": "code",
   "execution_count": null,
   "metadata": {},
   "outputs": [],
   "source": [
    "expected_state_action_values = (next_state_values * Settings.gamma) + reward_batch\n"
   ]
  },
  {
   "cell_type": "code",
   "execution_count": null,
   "metadata": {},
   "outputs": [],
   "source": [
    "expected_state_action_values"
   ]
  },
  {
   "cell_type": "code",
   "execution_count": null,
   "metadata": {},
   "outputs": [],
   "source": [
    "state_action_values.shape"
   ]
  },
  {
   "cell_type": "code",
   "execution_count": null,
   "metadata": {},
   "outputs": [],
   "source": [
    "import torch.nn.functional as F"
   ]
  },
  {
   "cell_type": "code",
   "execution_count": 30,
   "metadata": {},
   "outputs": [
    {
     "name": "stdout",
     "output_type": "stream",
     "text": [
      "Start to load data\n",
      "Start to load images: 1000=>1000!\n",
      "Start to load annotations: 1000=>1000!\n",
      "End\n"
     ]
    }
   ],
   "source": [
    "from FileUtils import FileUtils\n",
    "import matplotlib.pyplot as plt \n",
    "\n",
    "data = FileUtils(1000)\n",
    "data.filter_by_class(\"bird\")"
   ]
  },
  {
   "cell_type": "code",
   "execution_count": 31,
   "metadata": {},
   "outputs": [],
   "source": [
    "from Models import QModel\n",
    "from Settings import Settings\n",
    "import torch\n",
    "import torch.optim as optim\n",
    "import time\n",
    "from Agent import Agent\n",
    "from IoU import *\n",
    "from TrainUtils import optimize_model\n",
    "import json\n",
    "device = torch.device(\"cuda\" if Settings.cuda else \"cpu\")"
   ]
  },
  {
   "cell_type": "code",
   "execution_count": 47,
   "metadata": {},
   "outputs": [
    {
     "name": "stdout",
     "output_type": "stream",
     "text": [
      "Step 0=>current iou = 0.055744 || current action = 4 || current reward = 1.0\n",
      "Step 1=>current iou = 0.06219160682006937 || current action = 2 || current reward = 1.0\n",
      "Step 2=>current iou = 0.10209319111396263 || current action = 5 || current reward = 1.0\n",
      "Step 3=>current iou = 0.0565149136577708 || current action = 1 || current reward = -1.0\n",
      "Step 4=>current iou = 0.10937974738486912 || current action = 3 || current reward = 1.0\n",
      "Step 5=>current iou = 0 || current action = 4 || current reward = -1.0\n",
      "Step 6=>current iou = 0 || current action = 4 || current reward = -1.0\n",
      "Step 7=>current iou = 0 || current action = 3 || current reward = -1.0\n"
     ]
    },
    {
     "data": {
      "image/png": "[encoded data removed]",
      "text/plain": [
       "<Figure size 432x288 with 1 Axes>"
      ]
     },
     "metadata": {
      "needs_background": "light"
     },
     "output_type": "display_data"
    }
   ],
   "source": [
    "target_model = QModel()\n",
    "target_model.load_state_dict(torch.load(\"{}model_30.pt\".format(Settings.model_path)))\n",
    "\n",
    "if Settings.cuda:\n",
    "    target_model.cuda()\n",
    "target_model.eval()\n",
    "\n",
    "\n",
    "from Image import Image\n",
    "image = Image(data,6)\n",
    "annotation_list = image.objects\n",
    "agent = Agent(image.image)\n",
    "done = False\n",
    "old_iou_list = None\n",
    "state_list = list()\n",
    "\n",
    "for step in range(Settings.max_step):\n",
    "    print(\"Step {}\".format(step), end=\"=>\")\n",
    "    \n",
    "\n",
    "    iou_list = [iou_calculator(agent.boundary, x) for x in annotation_list]\n",
    "    max_index = max(range(len(iou_list)), key=lambda x: iou_list[x])\n",
    "    iou = max(iou_list)\n",
    "    \n",
    "    print(\"current iou = {}\".format(iou), end=\" || \")\n",
    "    old_iou = old_iou_list[max_index] if old_iou_list else 0\n",
    "    old_iou_list = iou_list\n",
    "\n",
    "    cur_state = agent.get_state()\n",
    "    state_list.append(cur_state)\n",
    "\n",
    "    # determine if we should end the result \n",
    "    if iou > Settings.iou_threshold:\n",
    "        action = torch.tensor(6).to(device)\n",
    "        done = True\n",
    "    else:\n",
    "        action = agent.get_next_action(target_model, eps=0)\n",
    "#         action = 5\n",
    "\n",
    "    if action == 6:\n",
    "        reward = reward_terminal(iou)\n",
    "        done = True\n",
    "\n",
    "    else:\n",
    "        agent.hierarchical_move(action)\n",
    "        agent.update_history_vector(action)\n",
    "        image.draw_one_box(agent.boundary)\n",
    "        image.add_text(step, (agent.boundary[\"xmin\"], agent.boundary[\"ymin\"]))\n",
    "        if agent.sub_image.shape[0] * agent.sub_image.shape[1] == 0:\n",
    "            done = True\n",
    "        else:\n",
    "            reward = reward_move(old_iou, iou)\n",
    "            \n",
    "    print(\"current action = {}\".format(int(action)), end=\" || \")\n",
    "    print(\"current reward = {}\".format(float(reward)))\n",
    "    if done:\n",
    "        break\n",
    "image.show()    "
   ]
  },
  {
   "cell_type": "code",
   "execution_count": null,
   "metadata": {},
   "outputs": [],
   "source": [
    "for s in state_list:\n",
    "    for i, x in enumerate(s[0]):\n",
    "        if not x == 0:\n",
    "            print(i)"
   ]
  },
  {
   "cell_type": "code",
   "execution_count": null,
   "metadata": {},
   "outputs": [],
   "source": []
  }
 ],
 "metadata": {
  "kernelspec": {
   "display_name": "Python 3",
   "language": "python",
   "name": "python3"
  },
  "language_info": {
   "codemirror_mode": {
    "name": "ipython",
    "version": 3
   },
   "file_extension": ".py",
   "mimetype": "text/x-python",
   "name": "python",
   "nbconvert_exporter": "python",
   "pygments_lexer": "ipython3",
   "version": "3.7.1"
  }
 },
 "nbformat": 4,
 "nbformat_minor": 2
}
